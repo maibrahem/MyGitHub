{
 "cells": [
  {
   "cell_type": "markdown",
   "id": "3e300036-60d4-421f-b8d5-5646201b5d59",
   "metadata": {},
   "source": [
    "# My Jupyter Notebook on IBM Watson Studio"
   ]
  },
  {
   "cell_type": "markdown",
   "id": "173b5788-6c33-4ffd-906c-72033f9d3866",
   "metadata": {},
   "source": [
    "**Mahmoud Mohamed Ibrahim**\n",
    "\n",
    "Statistical researcher"
   ]
  },
  {
   "cell_type": "markdown",
   "id": "02895dda-0337-4281-94c2-6408db77cce6",
   "metadata": {},
   "source": [
    "*I am interested in data science so as to extend my experience in statistical analysis of data. Also, I am seeking to make use of machine learning, deep learning and AI tools in data analytics.*"
   ]
  },
  {
   "cell_type": "markdown",
   "id": "a20ad964-ae76-4e53-b9f7-ca8b0383bf59",
   "metadata": {},
   "source": [
    "### The monthly income of the employee"
   ]
  },
  {
   "cell_type": "code",
   "execution_count": 2,
   "id": "26dfed63-b2bf-49c4-9b7e-4b25cf3670ac",
   "metadata": {},
   "outputs": [
    {
     "data": {
      "text/plain": [
       "6500.0"
      ]
     },
     "execution_count": 2,
     "metadata": {},
     "output_type": "execute_result"
    }
   ],
   "source": [
    "78000/12"
   ]
  },
  {
   "cell_type": "markdown",
   "id": "b95458be-d5e4-4443-82b7-5160d1ee84b3",
   "metadata": {},
   "source": [
    "---\n",
    "Horizontal rule\n",
    "---"
   ]
  },
  {
   "cell_type": "markdown",
   "id": "fb53ef3f-85cd-4bb9-9abf-fe65a0fe4cf7",
   "metadata": {},
   "source": [
    "### Bulleted list\n",
    "* R Studio\n",
    "- Python\n",
    "+ SQL"
   ]
  },
  {
   "cell_type": "markdown",
   "id": "fba0ba58-2ce0-4905-b551-563791c9ab50",
   "metadata": {},
   "source": [
    "### Numbered list\n",
    "1. IBM statistics\n",
    "2. IBM modeler\n"
   ]
  },
  {
   "cell_type": "markdown",
   "id": "4141c7a7-a1d0-461c-8ed2-af34f8378a57",
   "metadata": {},
   "source": [
    "### Blocked quotes\n",
    "> Quoted text."
   ]
  },
  {
   "cell_type": "markdown",
   "id": "ccef8f35-bac1-43eb-ad73-f28367a4b13e",
   "metadata": {},
   "source": [
    "### Table\n",
    "item1         | item2\n",
    "----          | ----\n",
    "Jupyter       | Jupyter lab\n",
    "IBM statistics| IBM modeler\n"
   ]
  },
  {
   "cell_type": "code",
   "execution_count": null,
   "id": "f3c42542-49ea-4e73-8abd-1ef0e4d66de7",
   "metadata": {},
   "outputs": [],
   "source": []
  }
 ],
 "metadata": {
  "kernelspec": {
   "display_name": "Python",
   "language": "python",
   "name": "conda-env-python-py"
  },
  "language_info": {
   "codemirror_mode": {
    "name": "ipython",
    "version": 3
   },
   "file_extension": ".py",
   "mimetype": "text/x-python",
   "name": "python",
   "nbconvert_exporter": "python",
   "pygments_lexer": "ipython3",
   "version": "3.7.12"
  }
 },
 "nbformat": 4,
 "nbformat_minor": 5
}
