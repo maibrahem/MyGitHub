{
 "cells": [
  {
   "cell_type": "markdown",
   "id": "b31f670c-0357-420f-b468-052ae7410d9b",
   "metadata": {},
   "source": [
    "## New practice"
   ]
  },
  {
   "cell_type": "code",
   "execution_count": 2,
   "id": "0bbd3b19-3b58-4329-bb5b-c92c1d469210",
   "metadata": {},
   "outputs": [
    {
     "data": {
      "text/plain": [
       "62"
      ]
     },
     "execution_count": 2,
     "metadata": {},
     "output_type": "execute_result"
    }
   ],
   "source": [
    "1+61"
   ]
  },
  {
   "cell_type": "code",
   "execution_count": 3,
   "id": "43973e7d-187e-446c-9ea4-37445a888ccc",
   "metadata": {},
   "outputs": [],
   "source": [
    "c=(1,2,3)"
   ]
  },
  {
   "cell_type": "code",
   "execution_count": 7,
   "id": "693674d8-5b35-4303-bf47-5c0676a82f0b",
   "metadata": {},
   "outputs": [
    {
     "data": {
      "text/plain": [
       "7"
      ]
     },
     "execution_count": 7,
     "metadata": {},
     "output_type": "execute_result"
    }
   ],
   "source": [
    "5+2"
   ]
  },
  {
   "cell_type": "markdown",
   "id": "633181b8-984e-4375-ae72-15e13213a73e",
   "metadata": {},
   "source": [
    "# My title"
   ]
  },
  {
   "cell_type": "markdown",
   "id": "cdf651f9-6fd9-492e-b387-ab03f427fadb",
   "metadata": {},
   "source": [
    "### My title"
   ]
  },
  {
   "cell_type": "code",
   "execution_count": null,
   "id": "f050b6fe-cd0a-4d0e-92c8-b5898f4a91f4",
   "metadata": {},
   "outputs": [],
   "source": []
  }
 ],
 "metadata": {
  "kernelspec": {
   "display_name": "Python",
   "language": "python",
   "name": "conda-env-python-py"
  },
  "language_info": {
   "codemirror_mode": {
    "name": "ipython",
    "version": 3
   },
   "file_extension": ".py",
   "mimetype": "text/x-python",
   "name": "python",
   "nbconvert_exporter": "python",
   "pygments_lexer": "ipython3",
   "version": "3.7.12"
  }
 },
 "nbformat": 4,
 "nbformat_minor": 5
}
